{
 "cells": [
  {
   "cell_type": "markdown",
   "metadata": {
    "id": "3nvtmDDRMQtQ"
   },
   "source": []
  },
  {
   "cell_type": "code",
   "execution_count": null,
   "metadata": {
    "id": "w2XZGHowv7S_"
   },
   "outputs": [],
   "source": [
    "#Install the following packages\n",
    "!pip install gym\n",
    "!apt-get install python-opengl -y\n",
    "!apt install xvfb -y\n",
    "!pip install pyvirtualdisplay\n",
    "!pip install piglet"
   ]
  },
  {
   "cell_type": "code",
   "execution_count": 5,
   "metadata": {
    "id": "uxnBR1RSwH4v"
   },
   "outputs": [],
   "source": [
    "# Do NOT change\n",
    "import os\n",
    "from pyvirtualdisplay import Display\n",
    "\n",
    "import gym\n",
    "from gym import logger as gymlogger\n",
    "from gym.wrappers import Monitor\n",
    "gymlogger.set_level(40) # error only\n",
    "import tensorflow as tf\n",
    "import numpy as np\n",
    "import random\n",
    "import matplotlib\n",
    "import matplotlib.pyplot as plt\n",
    "\n",
    "import math\n",
    "import glob\n",
    "import io\n",
    "import base64\n",
    "from IPython.display import HTML\n",
    "from IPython.display import clear_output\n",
    "\n",
    "from IPython import display as ipythondisplay\n",
    "import PIL\n",
    "\n",
    "import torch\n",
    "import torch.nn as nn\n",
    "from torch import optim\n",
    "import torch.nn.functional as F\n",
    "import torchvision.transforms as T\n",
    "\n",
    "from collections import namedtuple\n",
    "from tqdm import tqdm\n",
    "\n",
    "# Device contains the details of the compute platform: CPU or GPU\n",
    "device = torch.device('cuda' if torch.cuda.is_available() else 'cpu')\n",
    "%matplotlib inline"
   ]
  },
  {
   "cell_type": "code",
   "execution_count": 6,
   "metadata": {
    "id": "T4eQjq9rMdwM"
   },
   "outputs": [],
   "source": [
    "# Do NOT change\n",
    "\n",
    "display = Display(visible=0, size=(1400, 900))\n",
    "display.start()\n",
    "\n",
    "# This code creates a virtual display to draw game images on. \n",
    "# If you are running locally, just ignore it\n",
    "\n",
    "if type(os.environ.get(\"DISPLAY\")) is not str or len(os.environ.get(\"DISPLAY\"))==0:\n",
    "    !bash ../xvfb start\n",
    "    %env DISPLAY=:1"
   ]
  },
  {
   "cell_type": "code",
   "execution_count": 7,
   "metadata": {
    "id": "5ouUwQoNwP5w"
   },
   "outputs": [],
   "source": [
    "# Do NOT change\n",
    "\"\"\"\n",
    "Utility functions to enable video recording of gym environment and displaying it\n",
    "To enable video, just do \"env = wrap_env(env)\"\"\n",
    "\"\"\"\n",
    "\n",
    "def show_video():\n",
    "  mp4list = glob.glob('video/*.mp4')\n",
    "  if len(mp4list) > 0:\n",
    "    mp4 = mp4list[0]\n",
    "    video = io.open(mp4, 'r+b').read()\n",
    "    encoded = base64.b64encode(video)\n",
    "    ipythondisplay.display(HTML(data='''<video alt=\"test\" autoplay \n",
    "                loop controls style=\"height: 400px;\">\n",
    "                <source src=\"data:video/mp4;base64,{0}\" type=\"video/mp4\" />\n",
    "             </video>'''.format(encoded.decode('ascii'))))\n",
    "  else: \n",
    "    print(\"Could not find video\")\n",
    "    \n",
    "\n",
    "def wrap_env(env):\n",
    "  env = Monitor(env, './video', force=True)\n",
    "  return env"
   ]
  },
  {
   "cell_type": "markdown",
   "metadata": {
    "id": "RfS69fG3MtB6"
   },
   "source": [
    "### We are going to use the cart pole environment by Gym\n",
    "Run the below code to see how a randon agent performs in the cart pole environment"
   ]
  },
  {
   "cell_type": "code",
   "execution_count": 11,
   "metadata": {
    "colab": {
     "base_uri": "https://localhost:8080/",
     "height": 421
    },
    "id": "sevwVVdTwRyP",
    "outputId": "de791a86-479d-4897-b770-acafe3fb827e"
   },
   "outputs": [
    {
     "data": {
      "text/html": [
       "<video alt=\"test\" autoplay \n",
       "                loop controls style=\"height: 400px;\">\n",
       "                <source src=\"data:video/mp4;base64,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\" type=\"video/mp4\" />\n",
       "             </video>"
      ],
      "text/plain": [
       "<IPython.core.display.HTML object>"
      ]
     },
     "metadata": {
      "tags": []
     },
     "output_type": "display_data"
    }
   ],
   "source": [
    "env = gym.make('CartPole-v0')\n",
    "env = wrap_env(env)\n",
    "\n",
    "# Reset it, returns the starting frame\n",
    "frame = env.reset()\n",
    "\n",
    "is_done = False\n",
    "while not is_done:\n",
    "  # Perform a random action, returns the new frame, reward and whether the game is over\n",
    "  frame, reward, is_done, _ = env.step(env.action_space.sample())\n",
    "\n",
    "env.close()\n",
    "show_video()"
   ]
  },
  {
   "cell_type": "markdown",
   "metadata": {
    "id": "g8o41sq7wpDX"
   },
   "source": [
    "# Replay Memory"
   ]
  },
  {
   "cell_type": "code",
   "execution_count": 9,
   "metadata": {
    "id": "MnHGlSoN8DBC"
   },
   "outputs": [],
   "source": [
    "\"\"\" Step 1: Define a Replay Buffer which can store all the experiences of the agent.\n",
    "    During training, we will sample uniformly from the replay buffer and train our DQN\n",
    "    The replay buffer is already implemented.\"\"\"\n",
    "\n",
    "class ReplayBuffer(object):\n",
    "    def __init__(self, capacity):\n",
    "        self.capacity = capacity\n",
    "        self.buffer = []\n",
    "        self.pos  = 0\n",
    "    \n",
    "    def push(self, state, action, reward, next_state, done):\n",
    "\n",
    "        state = np.expand_dims(state, 0)\n",
    "        next_state = np.expand_dims(next_state, 0)\n",
    "        \n",
    "        if len(self.buffer) < self.capacity:\n",
    "            self.buffer.append((state, action, reward, next_state, done))\n",
    "        else:\n",
    "            self.buffer[self.pos] = (state, action, reward, next_state, done)\n",
    "        \n",
    "        self.pos = (self.pos + 1) % self.capacity\n",
    "    \n",
    "    def sample(self, batch_size):\n",
    "        \n",
    "        indices = np.random.choice(len(self.buffer), batch_size, replace=False)\n",
    "        samples = [self.buffer[idx] for idx in indices]\n",
    "        \n",
    "        batch = np.asarray(list(zip(*samples)))\n",
    "        states = np.concatenate(batch[0])\n",
    "        actions = batch[1]\n",
    "        rewards = batch[2]\n",
    "        next_states = np.concatenate(batch[3])\n",
    "        dones = batch[4]\n",
    "        \n",
    "        return states, actions, rewards, next_states, dones, indices\n",
    "\n",
    "    def __len__(self):\n",
    "        return len(self.buffer)"
   ]
  },
  {
   "cell_type": "code",
   "execution_count": null,
   "metadata": {
    "id": "PsjR_Swrwsgg"
   },
   "outputs": [],
   "source": [
    "\"\"\" Step 2.1: Define the Deep Q Network using Pytorch\n",
    "    Step 2.2: Define the forward pass through the network\"\"\"\n",
    "\n",
    "class DQN(nn.Module):\n",
    "    def __init__(self, num_inputs, num_actions, device):\n",
    "        super().__init__()\n",
    "        \n",
    "        \"\"\"Define a fully connected neural network for predicting the Q values, given a state\n",
    "        The network will have 1 input layer, 1 hidden layer and 1 output layer.\n",
    "        Use 128 units for the hidden layer\"\"\"\n",
    "\n",
    "        # Step 2.1: Define a Sequential network in Pytorch\n",
    "\n",
    "        self.num_actions = num_actions\n",
    "        self.device = device\n",
    "        \n",
    "    def forward(self, x):\n",
    "        # Step 2.2: Forward pass through the Sequential network defined in Step 7 and return the output\n",
    "        # The output dimension should be batch, num_actions. The input x has batch, num_inputs dimensions\n",
    "\n",
    "    \n",
    "    def act(self, state, epsilon):\n",
    "        state = torch.tensor(state).float().unsqueeze(0).to(self.device)\n",
    "        if random.random() > epsilon:\n",
    "            q_value = self.forward(state)\n",
    "            action  = q_value.max(1)[1].data[0].item()\n",
    "        else:\n",
    "            action = random.randrange(self.num_actions)\n",
    "        return action"
   ]
  },
  {
   "cell_type": "code",
   "execution_count": null,
   "metadata": {
    "id": "XHU8tZhy4QFp"
   },
   "outputs": [],
   "source": [
    "\"\"\" Implement the get_target function.\n",
    "    This function should perform the following:\n",
    "    Step 3.1: Get the bootstrapped Q values for the next state\n",
    "    Step 3.2: Calculate the TD target using the Bellman equation\"\"\"\n",
    "def get_target(model, next_state, reward, gamma, done):\n",
    "    \n",
    "    model.eval()\n",
    "    with torch.no_grad():\n",
    "        # Step 3.1: Get the bootstrapped Q values for the next state\n",
    "\n",
    "        # Step 3.2: Calculate and return the TD target using the Bellman equation\n",
    "    \n"
   ]
  },
  {
   "cell_type": "code",
   "execution_count": null,
   "metadata": {
    "id": "bcjCmRVaADIf"
   },
   "outputs": [],
   "source": [
    "\"\"\" Step 4.1: Sample a batch of examples from the replay buffer\n",
    "    Step 4.2: Get the predicted Q values of the sampled state by forward pass\n",
    "            through the DQN\n",
    "    Step 4.3: Gather only the Q values that correspond to the actions sampled \n",
    "            from the replay buffer  \n",
    "    Step 4.4: Get the target Q values of the sampled state by using the Bellamn \n",
    "            Equation. The Q value of next states are estimated by a forward pass \n",
    "            through the target network\n",
    "    Step 4.5: Calculate the Mean Squared Error loss between the predicted Q value \n",
    "            and target Q value by using the appropriate loss function in Pytorch.\n",
    "    Step 4.6: Back propagate the losses and update the model weights\n",
    "\"\"\"\n",
    "def compute_td_loss(batch_size, device, dqn_model, target_model):\n",
    "\n",
    "    # Step 4.1: Sample a batch of examples from the replay buffer\n",
    "    state, action, reward, next_state, done, indices = # Finish the rest of this line\n",
    "\n",
    "    state = torch.tensor(state.astype('float') ).float().to(device) #batch, n\n",
    "    next_state = torch.tensor(next_state.astype('float') ).float().to(device)#batch, n\n",
    "    action = torch.tensor(action.astype('float') ).long().to(device)#batch\n",
    "    reward = torch.tensor(reward.astype('float') ).float().to(device)#batch\n",
    "    done = torch.tensor(done.astype('float') ).float().to(device)#batch\n",
    "    \n",
    "    dqn_model.train()\n",
    "    # Step 4.2: Get the predicted Q values of the sampled state by forward pass through the DQN\n",
    "    \n",
    "    # Step 4.3: Gather only the Q values that correspond to the actions sampled from the replay buffer  \n",
    "\n",
    "    # Step 4.4: Get the target Q values of the sampled state by using the Bellamn Equation. \n",
    "    # The Q value of next states are estimated by a forward pass through the target network.\n",
    "    # Already implemented\n",
    "    expected_q_value = get_target(target_model, next_state, reward, gamma, done)\n",
    "    \n",
    "    # Step 4.5: Calculate the Meam Squared Error loss between the predicted Q value and target Q value\n",
    "\n",
    "\n",
    "    # Step 4.6: Back propagate the losses and update the model weights\n",
    "    \n",
    "    return loss"
   ]
  },
  {
   "cell_type": "code",
   "execution_count": null,
   "metadata": {
    "id": "t79IxPsAADNV"
   },
   "outputs": [],
   "source": [
    "epsilon_start = 1.0\n",
    "epsilon_final = 0.01\n",
    "epsilon_decay = 500\n",
    "\n",
    "# This function decays the epsilon over time\n",
    "epsilon_by_frame = lambda frame_idx: epsilon_final + (epsilon_start - epsilon_final) * math.exp(-1. * frame_idx / epsilon_decay)"
   ]
  },
  {
   "cell_type": "code",
   "execution_count": null,
   "metadata": {
    "id": "cBc-Zyro2nzw"
   },
   "outputs": [],
   "source": [
    "#Utility function to plot reward and loss during training\n",
    "\n",
    "def plot(frame_idx, rewards, losses):\n",
    "    clear_output(True)\n",
    "    plt.figure(figsize=(20,5))\n",
    "    plt.subplot(131)\n",
    "    plt.title('frame %s. reward: %s' % (frame_idx, np.mean(rewards[-10:])))\n",
    "    plt.plot(rewards)\n",
    "    plt.subplot(132)\n",
    "    plt.title('loss')\n",
    "    plt.plot(losses)\n",
    "    plt.show()"
   ]
  },
  {
   "cell_type": "code",
   "execution_count": null,
   "metadata": {
    "id": "GlAF3fp91z7m"
   },
   "outputs": [],
   "source": [
    "# Step 5.1: Define learning rate\n",
    "# Already implemented\n",
    "learningrate = 1e-4\n",
    "\n",
    "# Step 5.2: Instantiate the DQN model and the Target model, and move the model to GPU (if using GPU else CPU)\n",
    "# Already implemented\n",
    "dqn_model = DQN(env.observation_space.shape[0], env.action_space.n, device).to(device)\n",
    "target_model  = DQN(env.observation_space.shape[0], env.action_space.n, device).to(device)\n",
    "\n",
    "# Step 5.3: Remember that the Target model have the same parameters as the DQN. \n",
    "# Hence, we need to copy the parameters of the DQN to the Target network.\n",
    "# Already implemented\n",
    "target_model.load_state_dict(dqn_model.state_dict())\n",
    "\n",
    "# Step 5.4: Define an optimizer for training the parameters.\n",
    "# We are going to use Adam, which generally works better than SGD\n",
    "# Already implemented\n",
    "optimizer = optim.Adam(dqn_model.parameters(), lr=learningrate)\n",
    "\n",
    "# Step 5.5: Initializing the replay buffer, and the training parameters\n",
    "# Already implemented\n",
    "replay_buffer = ReplayBuffer(100000)\n",
    "num_frames = 15000\n",
    "batch_size = 64\n",
    "gamma = 0.99\n",
    "\n",
    "losses = []\n",
    "all_rewards = []\n",
    "episode_reward = 0\n",
    "\n",
    "state = env.reset()"
   ]
  },
  {
   "cell_type": "markdown",
   "metadata": {
    "id": "v1SnHP5PUg5P"
   },
   "source": [
    "# Now we finally start the training process"
   ]
  },
  {
   "cell_type": "code",
   "execution_count": null,
   "metadata": {
    "id": "YiTaD8Zf2pdg"
   },
   "outputs": [],
   "source": [
    "for frame_idx in range(1, num_frames + 1):\n",
    "\n",
    "    epsilon = epsilon_by_frame(frame_idx)\n",
    "    # Step 6.1: Given the current state \"state\", sample an action from the Q network\n",
    "    action = # Complete this step\n",
    "    \n",
    "    # Step 6.2: Perform the previously sampled action on the environment, and\n",
    "    # observe the next state and reward\n",
    "    next_state, reward, done, _ = # Complete this step\n",
    "\n",
    "    # Step 6.3: Push the experience to the replay buffer. Already implemented\n",
    "    replay_buffer.push(state, action, reward, next_state, done)\n",
    "    \n",
    "    state = next_state\n",
    "    episode_reward += reward\n",
    "    \n",
    "    if done:\n",
    "        # Step 6.4: If the episode terminates, we reset the episode and episode_reward.\n",
    "        # Already implemented\n",
    "        state = env.reset()\n",
    "        all_rewards.append(episode_reward)\n",
    "        episode_reward = 0\n",
    "        \n",
    "    if len(replay_buffer) > batch_size:\n",
    "        # Step 6.5: Only if we have enough examples in the replay buffer, we train the DQN\n",
    "        # Already implemented\n",
    "        loss = compute_td_loss(batch_size, device, dqn_model, target_model)\n",
    "        losses.append(loss.item())\n",
    "        \n",
    "    if frame_idx % 200 == 0:\n",
    "        # Step 6.6: Plot the reward and loss every 200 episode\n",
    "        # The environment is considered solved when the reward per episode is consistantly >= 190\n",
    "        # Already implemented\n",
    "        plot(frame_idx, all_rewards, losses)\n",
    "        \n",
    "    if frame_idx % 1000 == 0:\n",
    "        # Step 6.7: Copy the parameters of the DQN to the Target network after every 100 episodes\n",
    "        # Already implemented\n",
    "        target_model.load_state_dict(dqn_model.state_dict())"
   ]
  },
  {
   "cell_type": "code",
   "execution_count": null,
   "metadata": {
    "colab": {
     "base_uri": "https://localhost:8080/",
     "height": 421
    },
    "id": "-K_vAh9OBx5n",
    "outputId": "88d4be34-779a-4d5f-9555-ebd0efef53a0"
   },
   "outputs": [
    {
     "data": {
      "text/html": [
       "<video alt=\"test\" autoplay \n",
       "                loop controls style=\"height: 400px;\">\n",
       "                <source src=\"data:video/mp4;base64,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\" type=\"video/mp4\" />\n",
       "             </video>"
      ],
      "text/plain": [
       "<IPython.core.display.HTML object>"
      ]
     },
     "metadata": {
      "tags": []
     },
     "output_type": "display_data"
    }
   ],
   "source": [
    "# After successfully training the DQN, Run to below code to view the agent's permormance\n",
    "# Already implemented \n",
    "env = gym.make('CartPole-v0')\n",
    "env = wrap_env(env)\n",
    "\n",
    "frame = env.reset()\n",
    "\n",
    "is_done = False\n",
    "counter = 0\n",
    "tot_reward = 0\n",
    "while not is_done:\n",
    "  with torch.no_grad():\n",
    "    inpt = torch.tensor(frame).float().unsqueeze(0).to(device)\n",
    "    action = dqn_model(inpt).squeeze().argmax().item()\n",
    "    frame, reward, is_done, _ = env.step(action)\n",
    "    counter += 1\n",
    "    tot_reward += reward\n",
    "\n",
    "env.close()\n",
    "show_video()"
   ]
  },
  {
   "cell_type": "code",
   "execution_count": null,
   "metadata": {
    "id": "oHzoJdmp-Jwc"
   },
   "outputs": [],
   "source": []
  }
 ],
 "metadata": {
  "colab": {
   "collapsed_sections": [],
   "name": "main.ipynb",
   "provenance": [],
   "toc_visible": true
  },
  "kernelspec": {
   "display_name": "Python 3",
   "language": "python",
   "name": "python3"
  },
  "language_info": {
   "codemirror_mode": {
    "name": "ipython",
    "version": 3
   },
   "file_extension": ".py",
   "mimetype": "text/x-python",
   "name": "python",
   "nbconvert_exporter": "python",
   "pygments_lexer": "ipython3",
   "version": "3.8.3"
  }
 },
 "nbformat": 4,
 "nbformat_minor": 1
}
